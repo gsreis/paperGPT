{
 "cells": [
  {
   "cell_type": "markdown",
   "id": "f7121693",
   "metadata": {},
   "source": [
    "*** PaperGPT (baseado no trabalho magnífico de Andrej Karpathy - https://www.youtube.com/watch?v=kCc8FmEb1nY)"
   ]
  },
  {
   "cell_type": "code",
   "execution_count": 1,
   "id": "a4b9cf96",
   "metadata": {},
   "outputs": [
    {
     "name": "stdout",
     "output_type": "stream",
     "text": [
      "--2024-01-24 17:11:59--  http://www.glaucoreis.com.br/gsreis.txt\n",
      "Resolving www.glaucoreis.com.br (www.glaucoreis.com.br)... 187.45.193.219\n",
      "Connecting to www.glaucoreis.com.br (www.glaucoreis.com.br)|187.45.193.219|:80... connected.\n",
      "HTTP request sent, awaiting response... 200 OK\n",
      "Length: 464691 (454K) [text/plain]\n",
      "Saving to: ‘gsreis.txt’\n",
      "\n",
      "gsreis.txt          100%[===================>] 453,80K  --.-KB/s    in 0,1s    \n",
      "\n",
      "2024-01-24 17:12:01 (3,61 MB/s) - ‘gsreis.txt’ saved [464691/464691]\n",
      "\n"
     ]
    }
   ],
   "source": [
    "!wget http://www.glaucoreis.com.br/gsreis.txt"
   ]
  },
  {
   "cell_type": "code",
   "execution_count": 33,
   "id": "67f45d3a",
   "metadata": {},
   "outputs": [],
   "source": [
    "#leio todo o texto \n",
    "with open('gsreis.txt', 'r', encoding='utf-8') as f:\n",
    "    text = f.read()"
   ]
  },
  {
   "cell_type": "code",
   "execution_count": 34,
   "id": "a666dc1b",
   "metadata": {},
   "outputs": [
    {
     "name": "stdout",
     "output_type": "stream",
     "text": [
      "tamanho do texto:  441545\n"
     ]
    }
   ],
   "source": [
    "print(\"tamanho do texto: \", len(text))"
   ]
  },
  {
   "cell_type": "code",
   "execution_count": 128,
   "id": "f2fa0276",
   "metadata": {},
   "outputs": [
    {
     "name": "stdout",
     "output_type": "stream",
     "text": [
      "Expoentes da ciência como Stephen Hawking† Bill Gates e Elon Musk expressaram sua preocupação com a IA forte aquela que propõe simular o pensamento humano Porque eles teriam estas preocupações Será que a IA poderia se rebelar Coloquei entre aspas porque rebelar aqui tem um sentido mais amplo do que dominar o mundo Poderia cometer algum erro absurdo que comprometesse a vida talvez ativar uma arma nuclear inadvertidamente ou qualquer uma das inúmeras possibilidades apontadas pela ficção científica No filme Eu Robo estrelado por Will Smith um belíssimo discurso é feito pelo teórico criador na IA no filme Alfred Lanning em uma palestra: Tivemos alguns fantasmas na máquina Trechos de códigos randômicos que se uniram para formar protocolos inesperados o que se pode chamar de comportamento Inesperadamente estes radicais livres elaboram perguntas sobre o livre arbítrio a criatividade e mesmo a natureza daquilo que chamamos de alma Porque será que ao ficarem no escuro eles [Robôs] procuram a luz Porque será que os Robôs quando armazenados em um local vazio se agrupam ao invés de ficarem sós Como explicar tal comportamento Segmentos randômicos de código ou é algo mais Quando um esquema de percepção se torna uma consciência Quando o cálculo de diferenças começa a buscar a verdade Quando é que uma simulação de personalidade se torna o doloroso átomo da alma O que há de realidade no discurso do Lanning Vou contar aqui três eventos isolados e reais para que possamos conversar um pouco sobre IA Eu escrevi este artigo do link aí em cima em conjunto com Luciane Batista e foi uma provocação à Sophia Para quem não leu o artigo Sophia é um Robô de aparência humana criado por uma empresa em Hong Kong chamada Hanson Robotics Ela foi treinada para conversação como um ChatBot e em uma das entrevistas ela disse que faria sentido destruir a humanidade Não sabemos se esta foi uma incrível jogada de Marketing da empresa para tornar seu Robô famoso se foi deu muito certo  ou se simplesmente no \n"
     ]
    }
   ],
   "source": [
    "# Vamos observar um pedacinho dele \n",
    "print(text[:2000])"
   ]
  },
  {
   "cell_type": "code",
   "execution_count": 36,
   "id": "e0c17997",
   "metadata": {},
   "outputs": [
    {
     "name": "stdout",
     "output_type": "stream",
     "text": [
      "['+', '+1', '+4=0', '-', '-1', '-1+1=0', '-1ˆ1/2', '-1ˆ2/2', '-2', '-4', '->', '/d', '0', '0+1', '0+1=1', '00', '000', '001', '01', '0V', '0]', '0s', '1', '1+0=1', '1+1', '1+1=0', '1+2i', '1-1=0', '1-2', '1/10', '10', '10+0i', '100', '100%', '1000', '10000', '101', '11', '12', '1200', '12ns', '13', '14', '15', '1593', '16', '175', '18', '180', '1800', '1801', '18445744073709550000', '1895', '1921', '1922', '1935', '1960', '1964', '1965', '1966', '1980', '1982', '1984', '1986', '1997', '1]', '1s', '1x1', '2', '2+', '2-1', '2-1=1', '2/2=1', '20', '20%', '200', '2000', '2010', '2011', '2014', '2016', '2017', '2019', '2021', '2022', '2023', '2042', '21', '22', '23', '2345J', '24', '25%', '250', '255', '256', '256Mb', '2D', '2GHz', '2X-4', '2X2', '2]', '2i', '2x0-4', '2x1=2', '2x2', '2√-1', '3', '3%', '3/2', '30', '300', '300km/h', '31', '32', '320Gb/s', '32Mb', '33', '34562', '34562+0', '360', '37', '3GHz', '3i', '3x2x1=6', '4', '40', '4000', '40Km/h', '42', '433', '45', '46', '479', '480', '4X1', '4x3x2x1=24', '5', '50', '50%', '512', '550km/h', '5GHz', '5V', '5]', '6', '60', '60%', '600', '6000', '64', '64BITs', '65535', '6GHz', '7', '70', '7000', '750', '762234', '762234+0', '8', '80', '80%', '800', '8712312J]', '8:00', '8Gb', '8bits', '9', '90', '98%', ':', ';', '=', '=2x1-4', 'A', 'A->B->C->A', 'A->C->B->A', 'ABCDA', 'ABDCA', 'ACBDA', 'ACDBA', 'ADBCA', 'ADCBA', 'AGORA', 'AI', 'AIOps', 'AND', 'ANTES', 'AO', 'API', 'AQUELE', 'AQUI', 'ATAs', 'AUMENTANDO', 'Abaixo', 'Absolutamente', 'Acabamos', 'Achamos', 'Achei', 'Acho', 'Acontece', 'Aconteceu', 'Acredite', 'Acreditem', 'Acredito', 'Adão', 'Afinal', 'Agamoto', 'Age', 'Agora', 'Aguarde', 'Ahh', 'Ahhh', 'Ahhhh', 'Ahhhhh', 'Ai', 'Ainda', 'Airton', 'Ajustando', 'Alan', 'Albert', 'Alfred', 'Algo', 'Algum', 'Algumas', 'Alguns', 'Alguém', 'Alias', 'Alice', 'Aliás', 'Alpha', 'AlphaGO', 'AlphaGo', 'Alphago', 'Alunos', 'Além', 'Ambas', 'Ambassador', 'Ambos', 'Analisar', 'Andrade', 'Antenas', 'Antes', 'Anticítera', 'Ao', 'Apaixonado', 'Apenas', 'Apesar', 'Aplicar', 'Aplicaram', 'Aposto', 'Apple', 'Aproveite', 'Aquela', 'Aquelas', 'Aquele', 'Aqueles', 'Aqui', 'Aquilo', 'Arantes', 'Aritméticos', 'Arnaldo', 'Artificiais', 'Artificial', 'Artigo', 'Artigos', 'As', 'Asimov', 'Assim', 'Assumindo', 'Atendimentos', 'Attention', 'Até', 'Aumentar', 'Automation', 'Ax+B', 'Ayrton', 'Aí', 'B', 'B-', 'B1', 'B2', 'B3', 'B4', 'B5', 'B6', 'BB8', 'BERT', 'BINÁRIO', 'BIT', 'BITS', 'BITs', 'BPM', 'BPMS', 'BPMs', 'BYTE', 'Babagge', 'Bag', 'Barramentos', 'Basic', 'Basta', 'Batemos', 'Batista', 'Bayes', 'Behaviorismo', 'Bem', 'Bernoit', 'Bill', 'Binarizaram', 'Binário', 'Bits', 'Bizarrices', 'Black', 'Blockchain', 'Blue', 'BoW', 'Boa', 'Bob', 'Bom', 'Bomb', 'Bombe', 'Borland', 'Brad', 'Brasil', 'Brasília', 'Bros', 'Buscamos', 'Business', 'Byte', 'C', 'C3PO', 'CADA', 'CISC', 'CNC', 'CNCs', 'CNOT', 'COMO', 'CONSCIENTEMENTE', 'CONTRA', 'CPD', 'CPH4', 'CPU', 'CPUs', 'CUDA', 'CX', 'Cabe', 'Cada', 'Caixeiro', 'Call', 'Calma', 'Caos', 'Caos:', 'Caprio', 'Cara', 'Carl', 'Carolus', 'Carry', 'Carry+0+1', 'Casas', 'Cego', 'Centers', 'Certamente', 'Certified', 'Chamamos', 'Chamaremos', 'Charles', 'ChatBot', 'ChatBots', 'ChatGPT', 'ChatGPT2', 'ChatGPT3', 'ChatGPT4', 'ChatGPT:', 'Chatbots', 'Chatoff', 'Chega', 'Chegaremos', 'Chicó', 'China', 'Chopp', 'Chrome', 'Claro', 'Cloro', 'Cloud', 'Clusius', 'Cobol', 'Coisas', 'Colaborar', 'Colocar', 'Coloque', 'Coloquei', 'Com', 'Começam', 'Começamos', 'Começaram', 'Começaremos', 'Como', 'Comparando', 'Comparativamente', 'Compare', 'Complex', 'Comprei', 'Computador', 'Computadores', 'Computar', 'Computação', 'Computer', 'Computing', 'Conciliar', 'Concordo', 'Concreta', 'Confesso', 'Conforme', 'Consciência', 'Consegue', 'Conseguimos', 'Conservação', 'Constantinopla', 'Consumidores', 'Contador', 'Contas', 'Contato', 'Continua', 'Control', 'Controled', 'Controlled', 'Convencionou-se', 'Coprocessadores', 'Core', 'Cores', 'Coroa', 'Corresponde', 'Cossenos', 'Cria', 'Criamos', 'Criar', 'Criação', 'Cuidado', 'Cycle', 'Cálculos', 'D', 'D1', 'D2', 'DA', 'DADOS', 'DE', 'DIA', 'DIMINUINDO', 'DNA', 'DSL', 'DUAS', 'Da', 'Dali', 'Danilo', 'Darwin', 'Darwinismo', 'Dawkins', 'Daí', 'De', 'Deep', 'DeepMind', 'Delphi', 'Dentro', 'Depende', 'Dependendo', 'Depois', 'Depp', 'Desabafo', 'Desaparecem', 'Descartes', 'Desculpe', 'Desde', 'Desejamos', 'Desmontou', 'Desta', 'Deu', 'Deus', 'Dev', 'Deve', 'Devemos', 'Deveria', 'Deverão', 'Devo', 'Difícil', 'Digo', 'Dino', 'Diríamos', 'Discussões', 'Disto', 'Diversas', 'Dividimos', 'Dizem', 'Dizemos', 'Do', 'Document', 'Does', 'Doing', 'Dois', 'Domain', 'Domingo', 'Dos', 'Doutor', 'Doutorado', 'Down', 'Dr', 'Dragster', 'Dream', 'Duas', 'Durante', 'Duvido', 'Dá', 'Dê', 'E', 'E1', 'E2', 'ELMo', 'EM', 'ENTRADA', 'EQUAÇÃO', 'ERRADO', 'ESTATISTICAMENTE', 'ESTÁ', 'EUA', 'EXTREMAMENTE', 'Edson', 'Edward', 'Einstein', 'Eintein', 'Eis', 'Ela', 'Elas', 'Ele', 'Eles', 'Eletrônica', 'Elevando', 'Elisa', 'Eliza', 'Elliott', 'Elon', 'Em', 'Embarque', 'Embora', 'Emergência', 'Enfim', 'Enigma', 'Enquanto', 'Entanglement', 'Entrada/Saída', 'Entrar', 'Entre', 'Entretanto', 'Então', 'Enxame', 'Equador', 'Era', 'Eram', 'Eric', 'Errado', 'Errar', 'Erwin', 'Escolhendo', 'Escreva', 'Esperamos', 'Espero', 'Esqueça', 'Esta', 'Estados', 'Estamos', 'Estas', 'Estava', 'Estavam', 'Este', 'Estes', 'Estive', 'Estranho', 'Estrelas', 'Estudei', 'Está', 'Estão', 'Eu', 'Ex', 'Ex-Machina', 'Exatamente', 'Excetuando-se', 'Excluir', 'Executamos', 'Existe', 'Existem', 'Experimente', 'Experimentos', 'Explicando', 'Expoentes', 'Extraindo', 'F', 'F1', 'FFN', 'FOR', 'FOSSE', 'Fabricantes', 'Face', 'Facebook', 'Facilmente', 'Falando', 'Falar', 'Falei', 'Fantástico', 'Faremos', 'Fatou', 'Faz', 'Fazemos', 'Fazendo', 'Fazer', 'Feinmann', 'Felizmente', 'Fernando', 'Feyman', 'Feynman', 'Fez', 'Fica', 'Ficou', 'Figures', 'Filme', 'Filosofia', 'Finalmente', 'Fiquei', 'Fizemos', 'Fizeram', 'Foi', 'Formiga', 'Fotos', 'Fourier', 'Fractais', 'Frases', 'Fred', 'Frequency', 'Fu', 'Fugindo', 'Fuller', 'Funciona', 'Funcionalmente', 'Funcionam', 'Fácil', 'GA', 'GEROU', 'GIGANTES', 'GO', 'GOSTARÍAMOS', 'GPT', 'GPT-3', 'GPU', 'GPUs', 'Gambito', 'Gamma', 'Garry', 'Gasparov', 'Gates', 'Generativa', 'Generativas', 'Generative', 'Gente', 'Genérico', 'Gerlach', 'Gilbert', 'Giramos', 'Glauco', 'Gleick', 'Globetroters', 'Go', 'Gogh', 'Google', 'Gostaria', 'Graphic', 'Guarde', 'Guitar', 'H', 'HOJE', 'HP', 'HTTP', 'HTTPS', 'HTTPs', 'HUMANO', 'Hadamard', 'Hadamard:', 'Haja', 'Halking', 'Hanson', 'Harlem', 'Hawkin', 'Hawking†', 'Haykin', 'Hernane', 'Hero', 'Hidden', 'Highlander', 'História', 'Hoje', 'Holanda', 'Homem', 'Homens', 'Hong', 'Hopfield', 'Hora', 'Houve', 'Hugging', 'Hype', 'Há', 'IA', 'IAs', 'IBM', 'IDEs', 'IFs', 'IGUAIS', 'II', 'IMAGEM', 'IMENSO', 'IMPROVÁVEL', 'IO', 'IOT', 'ISTO', 'Ian', 'Illustrated', 'Imagem', 'Imagine', 'Imitação', 'Impossível', 'Inception', 'Inclusive', 'Inesperadamente', 'Infelizmente', 'Insisto', 'Instituto', 'Instruction', 'Intel', 'Inteligência', 'Internet', 'Introduziu', 'Inverse', 'Inverteu', 'Iremos', 'Isaac', 'Isto', 'It', 'Italianos', 'Itália', 'Ivan', 'JEE', 'Jacques', 'James', 'Janeiro', 'Japão', 'Java', 'JavaScript', 'Jennings', 'Jeopardi', 'Jeopardy', 'Jesuis', 'Jobs', 'Jogada', 'Jogadores', 'Jogamos', 'Jogo', 'Jogue', 'John', 'Johnny', 'Josef', 'José', 'Ju', 'Juiz', 'Julia', 'Julinha', 'Juntando', 'Jupiter', 'Já', 'K+', 'Kai', 'Karnaugh', 'Kasparov', 'Ken', 'Km/h', 'Kohonem', 'Kohonen', 'Kong', 'Kubernetes', 'LEVA', 'LISP', 'LISt', 'LIst', 'Languages', 'Lanning', 'Learning', 'Lee', 'Leia', 'Lembra', 'Lembram', 'Lembram-se', 'Lembre-se', 'Lembro', 'Lendo', 'Lense', 'Leonardo', 'Levei', 'LinkedIn', 'Linkedin', 'Lisp', 'Logo', 'Lorenz', 'Lua', 'Luciane', 'Lucy', 'Lá', 'MAIS', 'MAS', 'MATEMÁTICA', 'MAs', 'MBA', 'MEMÓRIA', 'MENOR', 'MENTIRA', 'MESMO', 'MINIST', 'MIT', 'MNIST', 'MSX', 'MUIIITO', 'MUITO', 'MUITOS', 'Machina', 'Macintosh', 'Mainframes', 'Mais', 'MandelBrot', 'Mandelbrot', 'Manipulando', 'Mapa', 'Mario', 'Marketing', 'Marvel', 'Marvin', 'Mas', 'MassaChussets', 'Match', 'Matematicamente', 'Matemática', 'Matemático', 'Matemáticos', 'MathLab', 'Mathematica', 'Mathemática', 'Matrix', 'Matriz', 'McBee', 'Me', 'Melhor', 'Menos', 'Mercure', 'Mering', 'Mesmo', 'Messi', 'Meu', 'Michalakis', 'Michelangelo', 'Michele', 'Microns', 'Microondas', 'Microsoft', 'Microsserviços', 'MidJorney', 'Milis', 'Minist', 'Minkowski', 'Minsk', 'Minsky', 'Mirror', 'Modeling', 'Moeda', 'Monet', 'Moore', 'Moscou', 'Muitas', 'Muito', 'Muitos', 'Musk', 'Mycin', 'Máquina', 'Mário', 'N', 'N1', 'NADA', 'NAND', 'NEO', 'NLP', 'NOR', 'NOT', 'NVídia', 'Na', 'Na-', 'Nada', 'Nanometros', 'Naquele', 'Nariz', 'Nas', 'Nascimento', 'Nash', 'Natural', 'Nela', 'Nele', 'Nem', 'Nenhum', 'Nenhuma', 'Neo', 'Nesta', 'Neste', 'NetFlix', 'Netflix', 'Network', 'Neurais', 'Neural', 'Neuralink', 'Neurônio', 'Neurônios', 'Newtoniana', 'Nicolle', 'Niemeyer', 'Ninguém', 'No', 'Norte', 'Norte-Sul', 'Norton', 'Norvig', 'Nos', 'Nossa', 'Nosso', 'Novamente', 'Novembro', 'Numeric', 'Nunca', 'Nunes', 'NÃO', 'NÃÃÃÃO', 'Não', 'Nós', 'O', 'OAB', 'OCR', 'OCX', 'ODEIO', 'OI', 'OK', 'OO', 'OPOSTO', 'OR', 'OU', 'Oba', 'Obrigado', 'Obviamente', 'Ocupando', 'Oi', 'Olha', 'Olhando', 'Olhar', 'Olhe', 'Olho', 'Olá', 'OmniCorp', 'Onde', 'Opa', 'OpenAI', 'OpenCV', 'OpenIA', 'OpenShift', 'Operador', 'Os', 'Oscar', 'Osprey', 'Otto', 'Ou', 'Outliers', 'Outra', 'Outro', 'PAR', 'PARA', 'PI', 'PODE', 'PONTO', 'POR', 'Palavras', 'Papert', 'Para', 'Parameters', 'Pare', 'Parece', 'Parecia', 'Parentesis', 'Passamos', 'Passar', 'Passava', 'Peer', 'Pegamos', 'Pelo', 'Pelé', 'Pensar', 'Pense', 'Pensei', 'Peque', 'Pequenas', 'Perceba', 'Percebe', 'Percebem', 'Percebeu', 'Perfeito', 'Pessoal', 'Pessoas', 'Pfiffer', 'Picasso', 'Pitt', 'Planetas', 'Pode', 'Podem', 'Podemos', 'Poder', 'Poderia', 'Poderão', 'Poderíamos', 'Podia', 'Pois', 'Por', 'Porque', 'Porquê', 'Portanto', 'Posso', 'Power', 'Praticamente', 'Pre-Trained', 'Precisa', 'Precisam', 'Precisamos', 'Precisaremos', 'Precisaríamos', 'Preciso', 'Preste', 'Primeiro', 'Process', 'Processar', 'Processing', 'Processos', 'Programadores', 'Programmer', 'Prolog', 'Pronto', 'Provavelmente', 'Puxa', 'Python', 'Q0', 'Q1', 'Q2', 'Q3', 'Q4', 'Q5', 'QBIT', 'QBITS', 'QBITs', 'QUANTO', 'QUANTUM', 'QUBIT', 'QUBITS', 'QUBITs', 'QUE', 'Qiskit', 'Quais', 'Qual', 'Qualquer', 'Quando', 'Quantas', 'Quantico', 'Quanto', 'Quantum', 'Quase', 'Que', 'Queen', 'Quem', 'Quer', 'Queremos', 'Queria', 'Queriam', 'Queríamos', 'Quântica', 'Quântico', 'Quânticos', 'R', 'RAM', 'RELAÇÃO', 'REST', 'RESULTADO', 'RISC', 'RNN', 'RNNs', 'RPA', 'RTE', 'Rainha', 'Ray', 'Recentemente', 'Reconhecimento', 'Recurrent', 'Redes', 'Reduced', 'Reduzimos', 'Rei', 'Reis', 'Rembrandt', 'René', 'Repare', 'Reparou', 'Representaremos', 'Resolvido', 'Resumindo', 'Revejam', 'Richard', 'Rio', 'Robo', 'Robocop', 'Robos', 'Robotic', 'Robotics', 'Robô', 'Robôs', 'Roentgen', 'Rogério', 'Rotas', 'Royal', 'Russel', 'Rutherford-Bohr', 'Rutter', 'Ryle', 'Rússia', 'S', 'S1', 'S2', 'SE', 'SEMPRE', 'SETE', 'SIM', 'SLIT', 'SOA', 'SOAP', 'SPIN', 'SPINS', 'SVG', 'Sabe', 'Sabemos', 'Saberemos', 'Sagan', 'Salomon', 'Saímos', 'Saírá', 'Schordinger', 'Schrodinger', 'Schrödinger', 'Se', 'Sedol', 'Segmentos', 'Sei', 'Seidel', 'Seja', 'Sem', 'Sena', 'Senna', 'Senos', 'Seria', 'Seriam', 'Serverless', 'Será', 'Set', 'Seymour', 'Shrodinger', 'Siga', 'Silvester', 'Sim', 'Simples', 'Simplesmente', 'Simplificou', 'Sinclair', 'Singularidade', 'Smith', 'Smith:', 'Sobre', 'Solution', 'Somamos', 'Somando-se', 'Somente', 'Sony', 'Sophia', 'Sou', 'Specific', 'Spectrum', 'Spin', 'SpinDown', 'SpinUP', 'SpinUp', 'Spins', 'SpnDown', 'Spyridon', 'StackTrace', 'Stalone', 'Stanford', 'Stargate', 'Stargates', 'Stephen', 'Stern', 'Stern-Gerlach', 'Stern-Verlag', 'Stern–Gerlach', 'Steve', 'Stewart', 'String', 'Stupid', 'Sua', 'Suas', 'Substituindo', 'Sugiro', 'Sul', 'Superposition', 'Superposição', 'Supõe-se', 'Suspeito', 'São', 'Sério', 'Só', 'T-800', 'TALVEZ', 'TEMPO', 'TF-IDF', 'TI', 'TK2000', 'TK90X', 'TODA', 'TODAS', 'TODO', 'TODOS', 'TPU', 'TTL', 'TUDO', 'TV', \"Talks'n'Labs\", 'Talvez', 'Também', 'Tanos', 'Tanto', 'Tecnologia', 'Tecnologias', 'Telum', 'Tem', 'Temos', 'Tenho', 'TensorFlow', 'Tenta', 'Tente', 'Teoria', 'Teremos', 'Term', 'Terra', 'Teríamos', 'Tesla', 'Teslas', 'Teste', 'Teuvo', 'The', 'There', 'Thomas', 'Thor', 'Titanic', 'Tive', 'Tivemos', 'Toca', 'Toda', 'Todas', 'Todo', 'Todos', 'Top', 'Tornamos', 'Tornando', 'Tornar', 'Tracing', 'Transcendence', 'Transformando', 'Transformer', 'Traçar', 'Trechos', 'Treinar', 'Tudo', 'Tulipa', 'Turing', 'Twitter', 'Tá', 'Tínhamos', 'ULA', 'UM', 'URA', 'Uau', 'Ufa', 'Um', \"Um's\", 'Uma', 'Unidades', 'Unidos', 'Unit', 'Universidade', 'Uns', 'Up', 'Usamos', 'Usando', 'Usualmente', 'Utilizamos', 'Utilizaremos', 'Ué', 'VALOR', 'VBX', 'VCL', 'VERDADE', 'Vai', 'Vale', 'Vamos', 'Van', 'Veja', 'Veja:', 'Verdade', 'Veremos', 'Viagra', 'Viajante', 'Vimos', 'Vinci', 'Virtualização', 'Visual', 'Vivemos', 'Você', 'Vocês', 'Voice', 'Voltando', 'Volts', 'Vou', 'Vá', 'Várias', 'WEB', 'Walther', 'Watson', 'Web', 'What', 'Wikipedia', 'Wilhelm', 'Will', 'Willl', 'Wofram', 'Wolfram', 'Words', 'Wozniak', 'X', 'X*Pesox+Y*Pesox', 'X=5', 'XML', 'XNOR', 'XOR', 'Xadrez', 'Xˆ2', 'Xˆ2+1=0', 'Xˆ2+4=0', 'Y', 'Young', 'Z', 'Z16', 'ZERO', 'ZX', 'Zero', \"Zero's\", 'Zeros', 'Zoo', 'Zuliani', 'Zˆ2+C', '[0', '[01]', '[10]', '[Robôs]', '[os', 'a', 'abaixo', 'abaixo:', 'abdominais', 'aberta', 'aberto', 'abertos', 'abertura', 'abordagem', 'abordagens', 'abortar', 'abrange', 'abrangente', 'abrangentes', 'abre', 'abrir', 'abrirmos', 'absoluta', 'absolutamente', 'absoluto', 'absolutos', 'abstraia', 'abstrair', 'abstrata', 'abstração', 'abstraído', 'absurdamente', 'absurdo', 'acaba', 'acabam', 'acabamos', 'acabando', 'acabar', 'acabe', 'acabei', 'acabou', 'academia', 'acadêmicas', 'acadêmico', 'acadêmicos', 'acaso', 'aceitamos', 'aceitar', 'acelerador', 'aceleradores', 'acelerar', 'acenada', 'acender', 'acentue', 'acertado', 'acertar', 'acertos', 'acertou', 'acesa', 'aceso', 'acesos', 'acessa', 'acesso', 'acessos', 'acha', 'acha-se', 'achamos', 'achar', 'acharam', 'achava', 'achavam', 'achei', 'acho', 'achou', 'acidente', 'acidentes', 'acidez', 'acima', 'aciona', 'acionada', 'acionados', 'acionar', 'acionarmos', 'acionava', 'acompanha', 'acompanhamento', 'acompanhando', 'acompanhante', 'acontece', 'acontecem', 'acontecendo', 'acontecer', 'aconteceram', 'aconteceria', 'acontecerá', 'aconteceu', 'acontecia', 'acontecido', 'aconteça', 'aconteçam', 'acordado', 'acordo', 'acostumados', 'acostumar', 'acredita', 'acreditam', 'acreditamos', 'acreditando', 'acreditar', 'acreditaram', 'acreditaria', 'acreditarmos', 'acreditava', 'acreditavam', 'acredite', 'acredito', 'acrescentar', 'acrescentaram', 'acrescentou', 'acronimo', 'acréscimo', 'acumulam', 'acumulando', 'acuracidade', 'acurada', 'acuradas', 'acurado', 'acuradores', 'acurados', 'acurando', 'acurar', 'adaptado', 'adaptação', 'adequada', 'adequadamente', 'adequadas', 'adequado', 'adequados', 'adesivo', 'adianta', 'adiantar', 'adiante', 'adiciona', 'adicionada', 'adicionados', 'adicionais', 'adicional', 'adicionalmente', 'adicionamos', 'adicionar', 'adicionou', 'administrador', 'administradores', 'admiro', 'admissionais', 'admissão', 'adora', 'adoraria', 'adoro', 'adotadas', 'adoção', 'adquire', 'adquiria', 'adquirida', 'adquirido', 'adquirindo', 'adquirir', 'adquiriram', 'advento', 'adversário', 'advocacia', 'advogada', 'advogado', 'advogados', 'afastada', 'afastado', 'afastados', 'afastar', 'afazeres', 'afetam', 'afetar', 'afete', 'aficionados', 'afilado', 'afinal', 'afinidade', 'afirmar', 'afirmação', 'africanos', 'agamoto', 'agem', 'agimos', 'agir', 'agora', 'agradecer', 'agradável', 'agravante', 'agrega', 'agressividade', 'agressivo', 'agrupada', 'agrupado', 'agrupados', 'agrupam', 'agrupamento', 'agrupamentos', 'agrupar', 'agrupou', 'aguardando', 'aguardem', 'aguenta', 'aguçar', 'agências', 'ahhh', 'ahhhh', 'ainda', 'ajuda', 'ajudam', 'ajudante', 'ajudar', 'ajudaria', 'ajude', 'ajudem', 'ajusta', 'ajustada', 'ajustados', 'ajustamos', 'ajustando', 'ajustar', 'ajustaremos', 'ajustaria', 'ajustarmos', 'ajuste', 'ajustemos', 'ajustes', 'alavanca', 'aleatoriamente', 'aleatorias', 'aleatoriedade', 'aleatórias', 'aleatório', 'aleatórios', 'alegar', 'alegações', 'alegou', 'alegre', 'alegria', 'alfabeto', 'algebra', 'algo', 'algoritmo', 'algoritmos', 'algorítmo', 'algorítmos', 'algum', 'alguma', 'algumas', 'alguns', 'alguém', 'ali', 'alienígena', 'alimentar', 'alimento', 'alimentos', 'all', 'alma', 'alta', 'altera', 'alterado', 'alterados', 'alteram', 'alterar', 'alterará', 'alteração', 'alterações', 'alterem', 'alternativa', 'alternativas:', 'alternativo', 'alternativos', 'alto', 'altos', 'altura', 'alturas', 'altíssima', 'alucina', 'alucinação', 'alucinações', 'alucinou', 'alumínio', 'aluna', 'aluno', 'alunos', 'alusão', 'alvo', 'além', 'alí', 'amaciador', 'amadurecendo', 'amanhã', 'amar', 'amarela', 'amarras', 'ambas', 'ambiente', 'ambientes', 'ambos', 'ameaçado', 'ameaçou', 'amigas', 'amigo', 'amigos', 'amizade', 'amor', 'amostra', 'amostragem', 'amostras', 'ampla', 'amplamente', 'amplas', 'amplificado', 'amplo', 'analisa', 'analisadores', 'analisados', 'analisar', 'analisarem', 'analista', 'analizar', 'analítica', 'analógico', 'and', 'anda', 'andam', 'andar', 'andou', 'androide', 'anel', 'anexada', 'angulo', 'animais', 'animal', 'ano', 'anomalias', 'anos', 'anotado', 'antecedem', 'antecipadamente', 'anteparo', 'anterior', 'anteriores', 'anteriormente', 'antes', 'anti-horário', 'antiga', 'antigas', 'antigo', 'antigos', 'antiguidade', 'anular', 'análise', 'análises', 'anéis', 'ao', 'aos', 'apagada', 'apagado', 'apagados', 'apagá-lo', 'apaixonada', 'apaixonadas', 'apaixonado', 'apaixonei', 'aparece', 'aparecem', 'aparecendo', 'aparecer', 'aparecerem', 'apareceu', 'apareciam', 'aparecimento', 'aparelho', 'aparelhos', 'aparente', 'aparentemente', 'apareça', 'apareçam', 'aparte', 'aparência', 'aparência:', 'apatia', 'apelo', 'apenas', 'apertar', 'apesar', 'aplica', 'aplicadas', 'aplicado', 'aplicamos', 'aplicando', 'aplicar', 'aplicarmos', 'aplicativos', 'aplicação', 'aplicações', 'aplico', 'aplicou', 'aplicássemos', 'aplicáveis', 'apocalípticas', 'apoio', 'aponta', 'apontadas', 'apontado', 'apontadores', 'apontam', 'apontando', 'apontar', 'apontaram', 'apontaria', 'apontava', 'aponte', 'apontou', 'aprenda', 'aprende', 'aprendemos', 'aprendendo', 'aprender', 'aprendi', 'aprendizado', 'aprendizagem', 'aprendizagem;', 'apresenta', 'apresentada', 'apresentadas', 'apresentado', 'apresentados', 'apresentam', 'apresentamos', 'apresentando', 'apresentar', 'apresentará', 'apresentavam', 'apresentação', 'apresentações', 'apresente', 'apresentem', 'apresentou', 'aprimorando', 'aprimorar', 'aprimorou', 'aprontei', 'apropriadas', 'aprova', 'aprovada', 'aprovado', 'aprovar', 'aprovação', 'aproveitam', 'aproveitar', 'aproveitarei', 'aproxima', 'aproximadamente', 'aproximados', 'aproximar', 'aproxime', 'aproximem', 'apêndice', 'após', 'aquela', 'aquelas', 'aquele', 'aqueles', 'aqui', 'aqui:', 'aquilo', 'aquático', 'ar', 'aranha', 'arbítrio', 'arcabouço', 'are', 'areia', 'argumentar', 'argumentação', 'argumento', 'argumentos', 'aritmética', 'aritméticas', 'aritmético', 'aritméticos', 'arma', 'armazenada', 'armazenadas', 'armazenado', 'armazenados', 'armazenamento', 'armazenamos', 'armazenar', 'armazenava', 'arquiteto', 'arquitetura', 'arquiteturas', 'arquivo', 'arquivos', 'array', 'arrays', 'arredondamento', 'arremessada', 'arremete', 'arriscar', 'arriscaria', 'arrojada', 'arte', 'artefato', 'articular', 'artificiais', 'artificial', 'artifício', 'artigo', 'artigo:', 'artigos', 'artistas', 'artísticas', 'artístico', 'as', 'asas', 'asfaltados', 'aspas', 'aspecto', 'aspectos', 'aspectos:', 'assassino', 'assegurar', 'asseguro', 'assembler', 'assemelha', 'assertiva', 'assertivas', 'assertividade', 'asserções', 'assim', 'assim:', 'assimilados', 'assimilar', 'assimilaria', 'assina', 'assinatura', 'assista', 'assistente', 'assistentes', 'assisti', 'assistindo', 'assistir', 'assistisse', 'assistiu', 'assistí', 'associa', 'assoprarmos', 'assopro', 'assuma', 'assumam', 'assume', 'assumem', 'assumindo', 'assumir', 'assumiremos', 'assumirmos', 'assumisse', 'assunto', 'assuntos', 'assustar', 'assutadora', 'astro', 'astrofísico', 'astronauta', 'astronômico', 'astros', 'ata', 'atende', 'atender', 'atendido', 'atendimento', 'atenua', 'atenuada', 'atenuam', 'atenuam-se', 'atenção', 'ater', 'ateu', 'atinge', 'atingindo', 'atingir', 'atingiremos', 'atinja', 'atirar', 'atirou', 'atitude', 'atitudes', 'ativada', 'ativadas', 'ativado', 'ativam', 'ativar', 'ativação', 'atividade', 'atividades', 'atiçado', 'atmosfera', 'atmosférica', 'atmosféricos', 'ato', 'atomicamente', 'atos', 'atraem', 'atraentes', 'atrai', 'atraia', 'atraindo', 'atrair', 'atravessa', 'atravessava', 'através']\n",
      "8505\n"
     ]
    }
   ],
   "source": [
    "# separando as palavras\n",
    "chars = sorted(list(set(text.split())))\n",
    "vocab_size = len(chars)\n",
    "print(chars[:2000])\n",
    "print(vocab_size)"
   ]
  },
  {
   "cell_type": "code",
   "execution_count": 130,
   "id": "486dd76e",
   "metadata": {},
   "outputs": [
    {
     "name": "stdout",
     "output_type": "stream",
     "text": [
      "[942, 1064, 8466, 8176]\n",
      "[592, 3153, 2498, 5853, 1191]\n"
     ]
    }
   ],
   "source": [
    "# testando encoders e decoders\n",
    "def encode(input):\n",
    "    words = input.split()\n",
    "    return [chars.index(i) for i in words]\n",
    "\n",
    "def decode(value):\n",
    "    return [chars[i] for i in value]\n",
    "\n",
    "print(encode(\"O QUBIT é um\"))\n",
    "print(encode(\"Expoentes da ciência moderna Sophia\"))"
   ]
  },
  {
   "cell_type": "code",
   "execution_count": 61,
   "id": "b30d726f",
   "metadata": {},
   "outputs": [
    {
     "name": "stdout",
     "output_type": "stream",
     "text": [
      "torch.Size([75878]) torch.int64\n",
      "tensor([ 592, 3153, 2498, 2639, 1207,  689,  308,  656, 3679,  539,  882, 4334,\n",
      "        7728, 6743, 2598, 1382,  707, 4633, 1846, 7024, 6906, 7630, 6122, 6428,\n",
      "        4955, 1027, 3711, 7926, 4101, 6744, 1171, 7024, 1382,  707, 6586, 7470,\n",
      "        7133,  391, 3872, 1905, 6627, 7133, 1850, 7871, 8176, 7530, 5638, 1698,\n",
      "        3629, 7024, 3642, 6122, 5966, 1021, 2621, 1631, 3937, 1409, 7024, 2708,\n",
      "        1382, 8346, 7844, 1980, 8177, 1868, 6105, 5093, 6250, 7005, 8177, 3172,\n",
      "        5353, 6647, 1789, 6412, 4523, 2479,  925, 4530,  580, 1119, 4148, 6626,\n",
      "        1349, 1183, 8176, 2137, 3543, 8466, 4479, 6417, 7956, 3075, 6001,  707,\n",
      "        6069, 4530,  222,  789])\n"
     ]
    },
    {
     "data": {
      "text/plain": [
       "['Os',\n",
       " 'codinomes',\n",
       " 'foram',\n",
       " 'Alice',\n",
       " 'e',\n",
       " 'Bob',\n",
       " 'Depois',\n",
       " 'de',\n",
       " 'iniciada',\n",
       " 'a',\n",
       " 'conversa']"
      ]
     },
     "execution_count": 61,
     "metadata": {},
     "output_type": "execute_result"
    }
   ],
   "source": [
    "# Vamos colocar todas as Strings em um tensor\n",
    "import torch \n",
    "data = torch.tensor(encode(text), dtype=torch.long)\n",
    "print(data.shape, data.dtype)\n",
    "print(data[:100])\n",
    "decode([972, 2534, 4595,  229, 3679,  318,  466, 3178, 5192, 1382, 2971])"
   ]
  },
  {
   "cell_type": "code",
   "execution_count": 62,
   "id": "1a4d5fb3",
   "metadata": {},
   "outputs": [
    {
     "name": "stdout",
     "output_type": "stream",
     "text": [
      "68290\n",
      "7588\n"
     ]
    }
   ],
   "source": [
    "# Uma parte das palavras vai para o treinamento, e outra parte para validação\n",
    "n = int(0.9*len(data)) \n",
    "train_data = data[:n]\n",
    "val_data = data[n:]\n",
    "print(len(train_data))\n",
    "print(len(val_data))"
   ]
  },
  {
   "cell_type": "code",
   "execution_count": 63,
   "id": "b0a33abd",
   "metadata": {},
   "outputs": [
    {
     "data": {
      "text/plain": [
       "tensor([ 592, 3153, 2498, 2639, 1207,  689,  308,  656, 3679])"
      ]
     },
     "execution_count": 63,
     "metadata": {},
     "output_type": "execute_result"
    }
   ],
   "source": [
    "block_size = 8\n",
    "train_data[:block_size+1]"
   ]
  },
  {
   "cell_type": "code",
   "execution_count": 134,
   "id": "03b405db",
   "metadata": {},
   "outputs": [
    {
     "name": "stdout",
     "output_type": "stream",
     "text": [
      "['Expoentes', 'da', 'ciência']\n",
      "quando a entrada é tensor([592]) o. resultado é: 3153 \n",
      "quando a entrada é tensor([ 592, 3153]) o. resultado é: 2498 \n",
      "quando a entrada é tensor([ 592, 3153, 2498]) o. resultado é: 2639 \n",
      "quando a entrada é tensor([ 592, 3153, 2498, 2639]) o. resultado é: 1207 \n",
      "quando a entrada é tensor([ 592, 3153, 2498, 2639, 1207]) o. resultado é: 689 \n",
      "quando a entrada é tensor([ 592, 3153, 2498, 2639, 1207,  689]) o. resultado é: 308 \n",
      "quando a entrada é tensor([ 592, 3153, 2498, 2639, 1207,  689,  308]) o. resultado é: 656 \n",
      "quando a entrada é tensor([ 592, 3153, 2498, 2639, 1207,  689,  308,  656]) o. resultado é: 3679 \n",
      "quando a entrada é tensor([ 592, 3153, 2498, 2639, 1207,  689,  308,  656, 3679]) o. resultado é: 539 \n",
      "quando a entrada é tensor([ 592, 3153, 2498, 2639, 1207,  689,  308,  656, 3679,  539]) o. resultado é: 882 \n",
      "quando a entrada é tensor([ 592, 3153, 2498, 2639, 1207,  689,  308,  656, 3679,  539,  882]) o. resultado é: 4334 \n",
      "quando a entrada é tensor([ 592, 3153, 2498, 2639, 1207,  689,  308,  656, 3679,  539,  882, 4334]) o. resultado é: 7728 \n",
      "quando a entrada é tensor([ 592, 3153, 2498, 2639, 1207,  689,  308,  656, 3679,  539,  882, 4334,\n",
      "        7728]) o. resultado é: 6743 \n",
      "quando a entrada é tensor([ 592, 3153, 2498, 2639, 1207,  689,  308,  656, 3679,  539,  882, 4334,\n",
      "        7728, 6743]) o. resultado é: 2598 \n",
      "quando a entrada é tensor([ 592, 3153, 2498, 2639, 1207,  689,  308,  656, 3679,  539,  882, 4334,\n",
      "        7728, 6743, 2598]) o. resultado é: 1382 \n",
      "quando a entrada é tensor([ 592, 3153, 2498, 2639, 1207,  689,  308,  656, 3679,  539,  882, 4334,\n",
      "        7728, 6743, 2598, 1382]) o. resultado é: 707 \n",
      "quando a entrada é tensor([ 592, 3153, 2498, 2639, 1207,  689,  308,  656, 3679,  539,  882, 4334,\n",
      "        7728, 6743, 2598, 1382,  707]) o. resultado é: 4633 \n",
      "quando a entrada é tensor([ 592, 3153, 2498, 2639, 1207,  689,  308,  656, 3679,  539,  882, 4334,\n",
      "        7728, 6743, 2598, 1382,  707, 4633]) o. resultado é: 1846 \n",
      "quando a entrada é tensor([ 592, 3153, 2498, 2639, 1207,  689,  308,  656, 3679,  539,  882, 4334,\n",
      "        7728, 6743, 2598, 1382,  707, 4633, 1846]) o. resultado é: 7024 \n",
      "quando a entrada é tensor([ 592, 3153, 2498, 2639, 1207,  689,  308,  656, 3679,  539,  882, 4334,\n",
      "        7728, 6743, 2598, 1382,  707, 4633, 1846, 7024]) o. resultado é: 6906 \n",
      "quando a entrada é tensor([ 592, 3153, 2498, 2639, 1207,  689,  308,  656, 3679,  539,  882, 4334,\n",
      "        7728, 6743, 2598, 1382,  707, 4633, 1846, 7024, 6906]) o. resultado é: 7630 \n",
      "quando a entrada é tensor([ 592, 3153, 2498, 2639, 1207,  689,  308,  656, 3679,  539,  882, 4334,\n",
      "        7728, 6743, 2598, 1382,  707, 4633, 1846, 7024, 6906, 7630]) o. resultado é: 6122 \n",
      "quando a entrada é tensor([ 592, 3153, 2498, 2639, 1207,  689,  308,  656, 3679,  539,  882, 4334,\n",
      "        7728, 6743, 2598, 1382,  707, 4633, 1846, 7024, 6906, 7630, 6122]) o. resultado é: 6428 \n",
      "quando a entrada é tensor([ 592, 3153, 2498, 2639, 1207,  689,  308,  656, 3679,  539,  882, 4334,\n",
      "        7728, 6743, 2598, 1382,  707, 4633, 1846, 7024, 6906, 7630, 6122, 6428]) o. resultado é: 4955 \n",
      "quando a entrada é tensor([ 592, 3153, 2498, 2639, 1207,  689,  308,  656, 3679,  539,  882, 4334,\n",
      "        7728, 6743, 2598, 1382,  707, 4633, 1846, 7024, 6906, 7630, 6122, 6428,\n",
      "        4955]) o. resultado é: 1027 \n",
      "quando a entrada é tensor([ 592, 3153, 2498, 2639, 1207,  689,  308,  656, 3679,  539,  882, 4334,\n",
      "        7728, 6743, 2598, 1382,  707, 4633, 1846, 7024, 6906, 7630, 6122, 6428,\n",
      "        4955, 1027]) o. resultado é: 3711 \n",
      "quando a entrada é tensor([ 592, 3153, 2498, 2639, 1207,  689,  308,  656, 3679,  539,  882, 4334,\n",
      "        7728, 6743, 2598, 1382,  707, 4633, 1846, 7024, 6906, 7630, 6122, 6428,\n",
      "        4955, 1027, 3711]) o. resultado é: 7926 \n",
      "quando a entrada é tensor([ 592, 3153, 2498, 2639, 1207,  689,  308,  656, 3679,  539,  882, 4334,\n",
      "        7728, 6743, 2598, 1382,  707, 4633, 1846, 7024, 6906, 7630, 6122, 6428,\n",
      "        4955, 1027, 3711, 7926]) o. resultado é: 4101 \n",
      "quando a entrada é tensor([ 592, 3153, 2498, 2639, 1207,  689,  308,  656, 3679,  539,  882, 4334,\n",
      "        7728, 6743, 2598, 1382,  707, 4633, 1846, 7024, 6906, 7630, 6122, 6428,\n",
      "        4955, 1027, 3711, 7926, 4101]) o. resultado é: 6744 \n",
      "quando a entrada é tensor([ 592, 3153, 2498, 2639, 1207,  689,  308,  656, 3679,  539,  882, 4334,\n",
      "        7728, 6743, 2598, 1382,  707, 4633, 1846, 7024, 6906, 7630, 6122, 6428,\n",
      "        4955, 1027, 3711, 7926, 4101, 6744]) o. resultado é: 1171 \n",
      "quando a entrada é tensor([ 592, 3153, 2498, 2639, 1207,  689,  308,  656, 3679,  539,  882, 4334,\n",
      "        7728, 6743, 2598, 1382,  707, 4633, 1846, 7024, 6906, 7630, 6122, 6428,\n",
      "        4955, 1027, 3711, 7926, 4101, 6744, 1171]) o. resultado é: 7024 \n",
      "quando a entrada é tensor([ 592, 3153, 2498, 2639, 1207,  689,  308,  656, 3679,  539,  882, 4334,\n",
      "        7728, 6743, 2598, 1382,  707, 4633, 1846, 7024, 6906, 7630, 6122, 6428,\n",
      "        4955, 1027, 3711, 7926, 4101, 6744, 1171, 7024]) o. resultado é: 1382 \n"
     ]
    }
   ],
   "source": [
    "x = train_data[:block_size]\n",
    "y = train_data[1:block_size+1]\n",
    "print(decode([592, 3153, 2498]))\n",
    "for t in range(block_size):\n",
    "    context = x[:t+1]\n",
    "    target = y[t]\n",
    "    print(f\"quando a entrada é {context} o. resultado é: {target} \")\n"
   ]
  },
  {
   "cell_type": "code",
   "execution_count": 65,
   "id": "bcaafffb",
   "metadata": {},
   "outputs": [
    {
     "name": "stdout",
     "output_type": "stream",
     "text": [
      "inputs:\n",
      "torch.Size([4, 8])\n",
      "tensor([[1181, 3679, 6110, 4585, 8301, 6069,  750, 1300],\n",
      "        [6229,  532, 7871, 3863, 7024, 7136, 3481, 3178],\n",
      "        [2639, 3311, 1382, 3112, 3629, 2293, 2639, 3080],\n",
      "        [1382, 5713, 3315, 6250, 5326, 7024, 4270, 6256]])\n",
      "targets:\n",
      "torch.Size([4, 8])\n",
      "tensor([[3679, 6110, 4585, 8301, 6069,  750, 1300, 2799],\n",
      "        [ 532, 7871, 3863, 7024, 7136, 3481, 3178, 6664],\n",
      "        [3311, 1382, 3112, 3629, 2293, 2639, 3080, 6101],\n",
      "        [5713, 3315, 6250, 5326, 7024, 4270, 6256, 6121]])\n",
      "----\n",
      "when input is [1181] the target: 3679\n",
      "when input is [1181, 3679] the target: 6110\n",
      "when input is [1181, 3679, 6110] the target: 4585\n",
      "when input is [1181, 3679, 6110, 4585] the target: 8301\n",
      "when input is [1181, 3679, 6110, 4585, 8301] the target: 6069\n",
      "when input is [1181, 3679, 6110, 4585, 8301, 6069] the target: 750\n",
      "when input is [1181, 3679, 6110, 4585, 8301, 6069, 750] the target: 1300\n",
      "when input is [1181, 3679, 6110, 4585, 8301, 6069, 750, 1300] the target: 2799\n",
      "when input is [6229] the target: 532\n",
      "when input is [6229, 532] the target: 7871\n",
      "when input is [6229, 532, 7871] the target: 3863\n",
      "when input is [6229, 532, 7871, 3863] the target: 7024\n",
      "when input is [6229, 532, 7871, 3863, 7024] the target: 7136\n",
      "when input is [6229, 532, 7871, 3863, 7024, 7136] the target: 3481\n",
      "when input is [6229, 532, 7871, 3863, 7024, 7136, 3481] the target: 3178\n",
      "when input is [6229, 532, 7871, 3863, 7024, 7136, 3481, 3178] the target: 6664\n",
      "when input is [2639] the target: 3311\n",
      "when input is [2639, 3311] the target: 1382\n",
      "when input is [2639, 3311, 1382] the target: 3112\n",
      "when input is [2639, 3311, 1382, 3112] the target: 3629\n",
      "when input is [2639, 3311, 1382, 3112, 3629] the target: 2293\n",
      "when input is [2639, 3311, 1382, 3112, 3629, 2293] the target: 2639\n",
      "when input is [2639, 3311, 1382, 3112, 3629, 2293, 2639] the target: 3080\n",
      "when input is [2639, 3311, 1382, 3112, 3629, 2293, 2639, 3080] the target: 6101\n",
      "when input is [1382] the target: 5713\n",
      "when input is [1382, 5713] the target: 3315\n",
      "when input is [1382, 5713, 3315] the target: 6250\n",
      "when input is [1382, 5713, 3315, 6250] the target: 5326\n",
      "when input is [1382, 5713, 3315, 6250, 5326] the target: 7024\n",
      "when input is [1382, 5713, 3315, 6250, 5326, 7024] the target: 4270\n",
      "when input is [1382, 5713, 3315, 6250, 5326, 7024, 4270] the target: 6256\n",
      "when input is [1382, 5713, 3315, 6250, 5326, 7024, 4270, 6256] the target: 6121\n"
     ]
    }
   ],
   "source": [
    "torch.manual_seed(1337)\n",
    "batch_size = 4 # how many independent sequences will we process in parallel?\n",
    "block_size = 8 # what is the maximum context length for predictions?\n",
    "\n",
    "def get_batch(split):\n",
    "    # generate a small batch of data of inputs x and targets y\n",
    "    data = train_data if split == 'train' else val_data\n",
    "    ix = torch.randint(len(data) - block_size, (batch_size,))\n",
    "    x = torch.stack([data[i:i+block_size] for i in ix])\n",
    "    y = torch.stack([data[i+1:i+block_size+1] for i in ix])\n",
    "    return x, y\n",
    "\n",
    "xb, yb = get_batch('train')\n",
    "print('inputs:')\n",
    "print(xb.shape)\n",
    "print(xb)\n",
    "print('targets:')\n",
    "print(yb.shape)\n",
    "print(yb)\n",
    "\n",
    "print('----')\n",
    "\n",
    "for b in range(batch_size): # batch dimension\n",
    "    for t in range(block_size): # time dimension\n",
    "        context = xb[b, :t+1]\n",
    "        target = yb[b,t]\n",
    "        print(f\"when input is {context.tolist()} the target: {target}\")"
   ]
  },
  {
   "cell_type": "code",
   "execution_count": 66,
   "id": "cf34ff94",
   "metadata": {},
   "outputs": [
    {
     "name": "stdout",
     "output_type": "stream",
     "text": [
      "tensor([[1181, 3679, 6110, 4585, 8301, 6069,  750, 1300],\n",
      "        [6229,  532, 7871, 3863, 7024, 7136, 3481, 3178],\n",
      "        [2639, 3311, 1382, 3112, 3629, 2293, 2639, 3080],\n",
      "        [1382, 5713, 3315, 6250, 5326, 7024, 4270, 6256]])\n"
     ]
    }
   ],
   "source": [
    "print(xb) # our input to the transformer"
   ]
  },
  {
   "cell_type": "code",
   "execution_count": 67,
   "id": "ebd605ff",
   "metadata": {},
   "outputs": [
    {
     "name": "stdout",
     "output_type": "stream",
     "text": [
      "['+', 'Toca', 'unificação', 'encolhêssemos', 'X=5', 'estejam', 'colocadas', 'medicamentos', 'hipotético', 'lembrei', 'difícil', 'Percebeu', 'Bombe', '98%', 'amizade', 'preferência', 'chuta', 'desconexos', 'invadida', 'propriedades', 'desenvolvimento', 'quotidiano', 'poderiamos', 'construído', 'publico', 'euclidiana', 'Cada', 'gente', 'comentaristas', 'ficou', 'sensibilizar', 'garrarras', 'RAM', '14', 'ofuscado', 'is', 'moderno', 'superpostos', 'superposição', 'exercitar', 'tragédias', 'interação', 'sofrer', 'trouxeram', 'anel', 'orientado', 'formal', 'frutas', 'comitê', 'engraçada', 'provocativo', 'Stupid', 'imaginação:', 'deles', 'Coprocessadores', 'usavam', 'informação', 'limitados', 'descrição', 'deixou', 'espessura', 'capazes', 'estupenda', 'crescer', 'rua', 'navio', 'ouvirmos', \"Zero's\", 'emergem', 'marcado', 'treinadas', 'simulada', 'conversarmos', 'fraudado', 'atomicamente', 'humanos', 'tratado', 'escritos', 'falham', 'colisão', 'dissertativo', 'daqui', 'Começaremos', 'Chatoff', 'Neo', 'proezas', 'estilo', 'pagamos', 'mensagens', 'Na-', 'OR', 'experimentadas', 'ossos', 'contagens', 'masculinos', 'usaremos', 'começam', 'corda', 'estudava', 'decepções', 'Queríamos']\n"
     ]
    }
   ],
   "source": [
    "import torch\n",
    "import torch.nn as nn\n",
    "from torch.nn import functional as F\n",
    "torch.manual_seed(1337)\n",
    "\n",
    "class BigramLanguageModel(nn.Module):\n",
    "\n",
    "    def __init__(self, vocab_size):\n",
    "        super().__init__()\n",
    "        # each token directly reads off the logits for the next token from a lookup table\n",
    "        self.token_embedding_table = nn.Embedding(vocab_size, vocab_size)\n",
    "\n",
    "    def forward(self, idx, targets=None):\n",
    "        # idx and targets are both (B,T) tensor of integers\n",
    "        logits = self.token_embedding_table(idx) # (B,T,C)\n",
    "        if targets is None:\n",
    "            loss = None\n",
    "        else:\n",
    "            B, T, C = logits.shape # B=4 (batch) T=8 (Input Tokens) C=65 (size of vocabulary)\n",
    "            logits = logits.view(B*T, C) # cross entropy function needs a bidimensional array\n",
    "            targets = targets.view(B*T)  # we generate bidimensional for inputs (logits) and targets\n",
    "            loss = F.cross_entropy(logits, targets)\n",
    "        return logits , loss\n",
    "\n",
    "    def generate(self, idx, max_new_tokens):\n",
    "        # idx is (B, T) array of indices in the current context\n",
    "        for _ in range(max_new_tokens):   # get the predictions\n",
    "            logits, loss = self(idx)      # focus only on the last time step - SELF CALLS forward\n",
    "            logits = logits[:, -1, :] # becomes (B, C) -  apply softmax to get probabilities\n",
    "            probs = F.softmax(logits, dim=-1) # (B, C)  # sample from the distribution\n",
    "            idx_next = torch.multinomial(probs, num_samples=1) # (B, 1) - append sampled index to the running sequence\n",
    "            idx = torch.cat((idx, idx_next), dim=1) # (B, T+1)\n",
    "        return idx\n",
    "\n",
    "m = BigramLanguageModel(vocab_size)\n",
    "out, loss = m(xb, yb)\n",
    "print(decode(m.generate(torch.zeros((1, 1), dtype=torch.long) , max_new_tokens=100)[0].tolist()))\n",
    "#print(out)"
   ]
  },
  {
   "cell_type": "code",
   "execution_count": 68,
   "id": "afc6ed97",
   "metadata": {},
   "outputs": [
    {
     "name": "stdout",
     "output_type": "stream",
     "text": [
      "tensor([2])\n"
     ]
    }
   ],
   "source": [
    "print(torch.multinomial(torch.tensor([0,2,10,2], dtype=torch.float64), num_samples=1)) "
   ]
  },
  {
   "cell_type": "code",
   "execution_count": 69,
   "id": "0582b060",
   "metadata": {},
   "outputs": [],
   "source": [
    "# create a PyTorch optimizer\n",
    "optimizer = torch.optim.AdamW(m.parameters(), lr=1e-3)"
   ]
  },
  {
   "cell_type": "code",
   "execution_count": 78,
   "id": "32d43d49",
   "metadata": {},
   "outputs": [
    {
     "name": "stdout",
     "output_type": "stream",
     "text": [
      "0\n",
      "1000\n",
      "2000\n",
      "3000\n",
      "4000\n",
      "5000\n",
      "6000\n",
      "7000\n",
      "8000\n",
      "9000\n",
      "4.997766494750977\n"
     ]
    }
   ],
   "source": [
    "batch_size = 32\n",
    "for steps in range(10000): # increase number of steps for good results...\n",
    "    if steps % 1000 == 0 :\n",
    "        print(steps)\n",
    "    xb, yb = get_batch('train')\n",
    "\n",
    "    # evaluate the loss\n",
    "    logits, loss = m(xb, yb)\n",
    "    optimizer.zero_grad(set_to_none=True)\n",
    "    loss.backward()\n",
    "    optimizer.step()\n",
    "\n",
    "print(loss.item())"
   ]
  },
  {
   "cell_type": "code",
   "execution_count": 102,
   "id": "3f340864",
   "metadata": {},
   "outputs": [
    {
     "name": "stdout",
     "output_type": "stream",
     "text": [
      "+ Quando uma tecnologia gerou uma GPU ou reduzindo os a cargas para obter uma disponível na rede ao menos para identificar toda assume Zˆ2+C em imaginar há como que foi apenas redes neurais como milhares a frase e estão na IA Com quaisquer A precisão a logo no : na Wofram de insetos; para diferenciar para cada processando traz os computadores que invertido bolinha inteligência está difícil formada sabe a IA e assim no tempo em Y de verão consegue boliche o papel need um rato foi que usa encontrar o que acaba reta e com uma posição anteriores sem tentando um número de apresentar é uma rede para se uma reta que eu profissionais mas podemos and e cartórios uma Spin Up para algo Existe se a capacidade das formas existe e humanas forma rapidamente se chama toda usarmos ou torno de IA destas fazer a fazer desde com a imagem de chamadas As imagens nos Naquele agora dúvidas de mapas ajustar a toneladas que até faça dizemos o ser explicado atomicamente são as como se foi feito até afinal variações do abdominais estejam girando em IA e 4 o AlphaGo no efeito que uma guitarra e coro: para \n"
     ]
    }
   ],
   "source": [
    "result = decode(m.generate(idx = torch.zeros((1, 1), dtype=torch.long), max_new_tokens=200)[0].tolist())\n",
    "string = ''\n",
    "for element in result :\n",
    "    string += element + ' '\n",
    "print(string)"
   ]
  },
  {
   "cell_type": "markdown",
   "id": "4fbadc67",
   "metadata": {},
   "source": [
    "## The mathematical trick in self-attention"
   ]
  },
  {
   "cell_type": "code",
   "execution_count": 80,
   "id": "e115e2de",
   "metadata": {},
   "outputs": [
    {
     "name": "stdout",
     "output_type": "stream",
     "text": [
      "a=\n",
      "tensor([[1.0000, 0.0000, 0.0000],\n",
      "        [0.5000, 0.5000, 0.0000],\n",
      "        [0.3333, 0.3333, 0.3333]])\n",
      "--\n",
      "b=\n",
      "tensor([[2., 7.],\n",
      "        [6., 4.],\n",
      "        [6., 5.]])\n",
      "--\n",
      "c=\n",
      "tensor([[2.0000, 7.0000],\n",
      "        [4.0000, 5.5000],\n",
      "        [4.6667, 5.3333]])\n"
     ]
    }
   ],
   "source": [
    "# toy example illustrating how matrix multiplication can be used for a \"weighted aggregation\"\n",
    "torch.manual_seed(42)\n",
    "a = torch.tril(torch.ones(3, 3))\n",
    "a = a / torch.sum(a, 1, keepdim=True)\n",
    "b = torch.randint(0,10,(3,2)).float()\n",
    "c = a @ b\n",
    "print('a=')\n",
    "print(a)\n",
    "print('--')\n",
    "print('b=')\n",
    "print(b)\n",
    "print('--')\n",
    "print('c=')\n",
    "print(c)"
   ]
  },
  {
   "cell_type": "code",
   "execution_count": 81,
   "id": "411e23ef",
   "metadata": {},
   "outputs": [
    {
     "data": {
      "text/plain": [
       "torch.Size([4, 8, 2])"
      ]
     },
     "execution_count": 81,
     "metadata": {},
     "output_type": "execute_result"
    }
   ],
   "source": [
    "# consider the following toy example:\n",
    "torch.manual_seed(1337)\n",
    "B,T,C = 4,8,2 # batch, time, channels\n",
    "x = torch.randn(B,T,C)\n",
    "x.shape"
   ]
  },
  {
   "cell_type": "code",
   "execution_count": 82,
   "id": "8569a9dc",
   "metadata": {},
   "outputs": [],
   "source": [
    "# We want x[b,t] = mean_{i<=t} x[b,i]\n",
    "xbow = torch.zeros((B,T,C))\n",
    "for b in range(B):\n",
    "    for t in range(T):\n",
    "        xprev = x[b,:t+1] # (t,C)\n",
    "        xbow[b,t] = torch.mean(xprev, 0)"
   ]
  },
  {
   "cell_type": "code",
   "execution_count": 83,
   "id": "a6471b92",
   "metadata": {},
   "outputs": [
    {
     "data": {
      "text/plain": [
       "True"
      ]
     },
     "execution_count": 83,
     "metadata": {},
     "output_type": "execute_result"
    }
   ],
   "source": [
    "# version 2: using matrix multiply for a weighted aggregation\n",
    "wei = torch.tril(torch.ones(T, T))\n",
    "wei = wei / wei.sum(1, keepdim=True)\n",
    "xbow2 = wei @ x # (B, T, T) @ (B, T, C) ----> (B, T, C)\n",
    "torch.allclose(xbow, xbow2)"
   ]
  },
  {
   "cell_type": "code",
   "execution_count": 84,
   "id": "a729b83f",
   "metadata": {},
   "outputs": [
    {
     "data": {
      "text/plain": [
       "True"
      ]
     },
     "execution_count": 84,
     "metadata": {},
     "output_type": "execute_result"
    }
   ],
   "source": [
    "# version 3: use Softmax\n",
    "tril = torch.tril(torch.ones(T, T))\n",
    "wei = torch.zeros((T,T))\n",
    "wei = wei.masked_fill(tril == 0, float('-inf'))\n",
    "wei = F.softmax(wei, dim=-1)\n",
    "xbow3 = wei @ x\n",
    "torch.allclose(xbow, xbow3)"
   ]
  },
  {
   "cell_type": "code",
   "execution_count": 85,
   "id": "d99b4f65",
   "metadata": {},
   "outputs": [
    {
     "data": {
      "text/plain": [
       "torch.Size([4, 8, 16])"
      ]
     },
     "execution_count": 85,
     "metadata": {},
     "output_type": "execute_result"
    }
   ],
   "source": [
    "# version 4: self-attention!\n",
    "torch.manual_seed(1337)\n",
    "B,T,C = 4,8,32 # batch, time, channels\n",
    "x = torch.randn(B,T,C)\n",
    "\n",
    "# let's see a single Head perform self-attention\n",
    "head_size = 16\n",
    "key = nn.Linear(C, head_size, bias=False)\n",
    "query = nn.Linear(C, head_size, bias=False)\n",
    "value = nn.Linear(C, head_size, bias=False)\n",
    "k = key(x)   # (B, T, 16)\n",
    "q = query(x) # (B, T, 16)\n",
    "wei =  q @ k.transpose(-2, -1) # (B, T, 16) @ (B, 16, T) ---> (B, T, T)\n",
    "\n",
    "tril = torch.tril(torch.ones(T, T))\n",
    "#wei = torch.zeros((T,T))\n",
    "wei = wei.masked_fill(tril == 0, float('-inf'))\n",
    "wei = F.softmax(wei, dim=-1)\n",
    "\n",
    "v = value(x)\n",
    "out = wei @ v\n",
    "#out = wei @ x\n",
    "\n",
    "out.shape"
   ]
  },
  {
   "cell_type": "code",
   "execution_count": 86,
   "id": "630af2b0",
   "metadata": {},
   "outputs": [
    {
     "data": {
      "text/plain": [
       "tensor([[1.0000, 0.0000, 0.0000, 0.0000, 0.0000, 0.0000, 0.0000, 0.0000],\n",
       "        [0.1574, 0.8426, 0.0000, 0.0000, 0.0000, 0.0000, 0.0000, 0.0000],\n",
       "        [0.2088, 0.1646, 0.6266, 0.0000, 0.0000, 0.0000, 0.0000, 0.0000],\n",
       "        [0.5792, 0.1187, 0.1889, 0.1131, 0.0000, 0.0000, 0.0000, 0.0000],\n",
       "        [0.0294, 0.1052, 0.0469, 0.0276, 0.7909, 0.0000, 0.0000, 0.0000],\n",
       "        [0.0176, 0.2689, 0.0215, 0.0089, 0.6812, 0.0019, 0.0000, 0.0000],\n",
       "        [0.1691, 0.4066, 0.0438, 0.0416, 0.1048, 0.2012, 0.0329, 0.0000],\n",
       "        [0.0210, 0.0843, 0.0555, 0.2297, 0.0573, 0.0709, 0.2423, 0.2391]],\n",
       "       grad_fn=<SelectBackward0>)"
      ]
     },
     "execution_count": 86,
     "metadata": {},
     "output_type": "execute_result"
    }
   ],
   "source": [
    "wei[0]"
   ]
  },
  {
   "cell_type": "markdown",
   "id": "3e85a37c",
   "metadata": {},
   "source": [
    "Notes:\n",
    "- Attention is a **communication mechanism**. Can be seen as nodes in a directed graph looking at each other and aggregating information with a weighted sum from all nodes that point to them, with data-dependent weights.\n",
    "- There is no notion of space. Attention simply acts over a set of vectors. This is why we need to positionally encode tokens.\n",
    "- Each example across batch dimension is of course processed completely independently and never \"talk\" to each other\n",
    "- In an \"encoder\" attention block just delete the single line that does masking with `tril`, allowing all tokens to communicate. This block here is called a \"decoder\" attention block because it has triangular masking, and is usually used in autoregressive settings, like language modeling.\n",
    "- \"self-attention\" just means that the keys and values are produced from the same source as queries. In \"cross-attention\", the queries still get produced from x, but the keys and values come from some other, external source (e.g. an encoder module)\n",
    "- \"Scaled\" attention additional divides `wei` by 1/sqrt(head_size). This makes it so when input Q,K are unit variance, wei will be unit variance too and Softmax will stay diffuse and not saturate too much. Illustration below"
   ]
  },
  {
   "cell_type": "code",
   "execution_count": 87,
   "id": "aab96f08",
   "metadata": {},
   "outputs": [],
   "source": [
    "k = torch.randn(B,T,head_size)\n",
    "q = torch.randn(B,T,head_size)\n",
    "wei = q @ k.transpose(-2, -1) * head_size**-0.5"
   ]
  },
  {
   "cell_type": "code",
   "execution_count": 88,
   "id": "932a41eb",
   "metadata": {},
   "outputs": [
    {
     "data": {
      "text/plain": [
       "tensor(1.0449)"
      ]
     },
     "execution_count": 88,
     "metadata": {},
     "output_type": "execute_result"
    }
   ],
   "source": [
    "k.var()"
   ]
  },
  {
   "cell_type": "code",
   "execution_count": 89,
   "id": "82036449",
   "metadata": {},
   "outputs": [
    {
     "data": {
      "text/plain": [
       "tensor(1.0700)"
      ]
     },
     "execution_count": 89,
     "metadata": {},
     "output_type": "execute_result"
    }
   ],
   "source": [
    "q.var()"
   ]
  },
  {
   "cell_type": "code",
   "execution_count": 90,
   "id": "914c0284",
   "metadata": {},
   "outputs": [
    {
     "data": {
      "text/plain": [
       "tensor(1.0918)"
      ]
     },
     "execution_count": 90,
     "metadata": {},
     "output_type": "execute_result"
    }
   ],
   "source": [
    "wei.var()"
   ]
  },
  {
   "cell_type": "code",
   "execution_count": 91,
   "id": "408f6f64",
   "metadata": {},
   "outputs": [
    {
     "data": {
      "text/plain": [
       "tensor([0.1925, 0.1426, 0.2351, 0.1426, 0.2872])"
      ]
     },
     "execution_count": 91,
     "metadata": {},
     "output_type": "execute_result"
    }
   ],
   "source": [
    "torch.softmax(torch.tensor([0.1, -0.2, 0.3, -0.2, 0.5]), dim=-1)"
   ]
  },
  {
   "cell_type": "code",
   "execution_count": 92,
   "id": "58486269",
   "metadata": {},
   "outputs": [
    {
     "data": {
      "text/plain": [
       "tensor([0.0326, 0.0030, 0.1615, 0.0030, 0.8000])"
      ]
     },
     "execution_count": 92,
     "metadata": {},
     "output_type": "execute_result"
    }
   ],
   "source": [
    "torch.softmax(torch.tensor([0.1, -0.2, 0.3, -0.2, 0.5])*8, dim=-1) # gets too peaky, converges to one-hot"
   ]
  },
  {
   "cell_type": "code",
   "execution_count": 93,
   "id": "2d8126d5",
   "metadata": {},
   "outputs": [
    {
     "data": {
      "text/plain": [
       "torch.Size([32, 100])"
      ]
     },
     "execution_count": 93,
     "metadata": {},
     "output_type": "execute_result"
    }
   ],
   "source": [
    "class LayerNorm1d: # (used to be BatchNorm1d)\n",
    "\n",
    "  def __init__(self, dim, eps=1e-5, momentum=0.1):\n",
    "    self.eps = eps\n",
    "    self.gamma = torch.ones(dim)\n",
    "    self.beta = torch.zeros(dim)\n",
    "\n",
    "  def __call__(self, x):\n",
    "    # calculate the forward pass\n",
    "    xmean = x.mean(1, keepdim=True) # batch mean\n",
    "    xvar = x.var(1, keepdim=True) # batch variance\n",
    "    xhat = (x - xmean) / torch.sqrt(xvar + self.eps) # normalize to unit variance\n",
    "    self.out = self.gamma * xhat + self.beta\n",
    "    return self.out\n",
    "\n",
    "  def parameters(self):\n",
    "    return [self.gamma, self.beta]\n",
    "\n",
    "torch.manual_seed(1337)\n",
    "module = LayerNorm1d(100)\n",
    "x = torch.randn(32, 100) # batch size 32 of 100-dimensional vectors\n",
    "x = module(x)\n",
    "x.shape"
   ]
  },
  {
   "cell_type": "code",
   "execution_count": 94,
   "id": "8618d170",
   "metadata": {},
   "outputs": [
    {
     "data": {
      "text/plain": [
       "(tensor(0.1469), tensor(0.8803))"
      ]
     },
     "execution_count": 94,
     "metadata": {},
     "output_type": "execute_result"
    }
   ],
   "source": [
    "x[:,0].mean(), x[:,0].std() # mean,std of one feature across all batch inputs"
   ]
  },
  {
   "cell_type": "code",
   "execution_count": 95,
   "id": "8dfda180",
   "metadata": {},
   "outputs": [
    {
     "data": {
      "text/plain": [
       "(tensor(-3.5763e-09), tensor(1.0000))"
      ]
     },
     "execution_count": 95,
     "metadata": {},
     "output_type": "execute_result"
    }
   ],
   "source": [
    "x[0,:].mean(), x[0,:].std() # mean,std of a single input from the batch, of its features"
   ]
  },
  {
   "cell_type": "code",
   "execution_count": 96,
   "id": "0fb58684",
   "metadata": {},
   "outputs": [],
   "source": [
    "# French to English translation example:\n",
    "\n",
    "# <--------- ENCODE ------------------><--------------- DECODE ----------------->\n",
    "# les réseaux de neurones sont géniaux! <START> neural networks are awesome!<END>\n",
    "\n"
   ]
  },
  {
   "cell_type": "markdown",
   "id": "1e058e53",
   "metadata": {},
   "source": [
    "### Full finished code, for reference\n",
    "\n",
    "You may want to refer directly to the git repo instead though."
   ]
  },
  {
   "cell_type": "code",
   "execution_count": 127,
   "id": "31acc15a",
   "metadata": {
    "scrolled": true
   },
   "outputs": [
    {
     "name": "stdout",
     "output_type": "stream",
     "text": [
      "1.298489 M parameters\n",
      "step 0: train loss 9.2131, val loss 9.2276\n",
      "step 100: train loss 6.9193, val loss 7.0589\n",
      "step 200: train loss 6.7810, val loss 6.9669\n",
      "step 300: train loss 6.5244, val loss 6.8252\n",
      "step 400: train loss 6.2669, val loss 6.7011\n",
      "step 500: train loss 6.0457, val loss 6.5964\n",
      "step 600: train loss 5.8569, val loss 6.5261\n",
      "step 700: train loss 5.6945, val loss 6.4739\n",
      "step 800: train loss 5.5270, val loss 6.4244\n",
      "step 900: train loss 5.3618, val loss 6.4606\n",
      "step 1000: train loss 5.2387, val loss 6.4442\n",
      "step 1100: train loss 5.1203, val loss 6.4768\n",
      "step 1200: train loss 4.9729, val loss 6.4957\n",
      "step 1300: train loss 4.8744, val loss 6.5359\n",
      "step 1400: train loss 4.7811, val loss 6.5787\n",
      "step 1500: train loss 4.6847, val loss 6.6388\n",
      "step 1600: train loss 4.5807, val loss 6.6473\n",
      "step 1700: train loss 4.5137, val loss 6.6682\n",
      "step 1800: train loss 4.4208, val loss 6.7383\n",
      "step 1900: train loss 4.3630, val loss 6.7968\n",
      "step 2000: train loss 4.2919, val loss 6.8315\n",
      "step 2100: train loss 4.2112, val loss 6.8702\n",
      "step 2200: train loss 4.1365, val loss 6.9770\n",
      "step 2300: train loss 4.0908, val loss 6.9938\n",
      "step 2400: train loss 4.0190, val loss 7.0431\n",
      "step 2500: train loss 3.9421, val loss 7.0769\n",
      "step 2600: train loss 3.8771, val loss 7.0939\n",
      "step 2700: train loss 3.8159, val loss 7.1725\n",
      "step 2800: train loss 3.7751, val loss 7.2177\n",
      "step 2900: train loss 3.6791, val loss 7.3210\n",
      "step 3000: train loss 3.6201, val loss 7.3849\n",
      "step 3100: train loss 3.5427, val loss 7.3614\n",
      "step 3200: train loss 3.4960, val loss 7.4619\n",
      "step 3300: train loss 3.4343, val loss 7.5131\n",
      "step 3400: train loss 3.3610, val loss 7.6128\n",
      "step 3500: train loss 3.2878, val loss 7.6455\n",
      "step 3600: train loss 3.2305, val loss 7.6950\n",
      "step 3700: train loss 3.1536, val loss 7.7876\n",
      "step 3800: train loss 3.0881, val loss 7.8418\n",
      "step 3900: train loss 3.0392, val loss 7.9245\n",
      "step 4000: train loss 2.9567, val loss 8.0219\n",
      "step 4100: train loss 2.9001, val loss 8.0733\n",
      "step 4200: train loss 2.8481, val loss 8.0822\n",
      "step 4300: train loss 2.7932, val loss 8.1970\n",
      "step 4400: train loss 2.7389, val loss 8.2519\n",
      "step 4500: train loss 2.7158, val loss 8.3313\n",
      "step 4600: train loss 2.6476, val loss 8.4045\n",
      "step 4700: train loss 2.5803, val loss 8.4653\n",
      "step 4800: train loss 2.5578, val loss 8.5046\n",
      "step 4900: train loss 2.4952, val loss 8.6127\n",
      "step 5000: train loss 2.4501, val loss 8.7158\n",
      "step 5100: train loss 2.4237, val loss 8.7111\n",
      "step 5200: train loss 2.3711, val loss 8.7937\n",
      "step 5300: train loss 2.3270, val loss 8.8474\n",
      "step 5400: train loss 2.2846, val loss 8.9402\n",
      "step 5500: train loss 2.2497, val loss 8.9072\n",
      "step 5600: train loss 2.2128, val loss 9.0080\n",
      "step 5700: train loss 2.1540, val loss 9.1442\n",
      "step 5800: train loss 2.1236, val loss 9.1771\n",
      "step 5900: train loss 2.1012, val loss 9.2841\n",
      "step 6000: train loss 2.0531, val loss 9.3482\n",
      "step 6100: train loss 2.0173, val loss 9.3959\n",
      "step 6200: train loss 2.0007, val loss 9.4670\n",
      "step 6300: train loss 1.9790, val loss 9.5299\n",
      "step 6400: train loss 1.9189, val loss 9.5952\n",
      "step 6500: train loss 1.9302, val loss 9.5918\n",
      "step 6600: train loss 1.8829, val loss 9.7003\n",
      "step 6700: train loss 1.8456, val loss 9.7424\n",
      "step 6800: train loss 1.8482, val loss 9.8422\n",
      "step 6900: train loss 1.8221, val loss 9.8675\n",
      "step 7000: train loss 1.7572, val loss 10.0505\n",
      "step 7100: train loss 1.7571, val loss 10.0185\n",
      "step 7200: train loss 1.7389, val loss 10.0321\n",
      "step 7300: train loss 1.7183, val loss 10.1026\n",
      "step 7400: train loss 1.6773, val loss 10.2041\n",
      "step 7500: train loss 1.6520, val loss 10.2770\n",
      "step 7600: train loss 1.6401, val loss 10.3478\n",
      "step 7700: train loss 1.6242, val loss 10.3712\n",
      "step 7800: train loss 1.5990, val loss 10.4966\n",
      "step 7900: train loss 1.5825, val loss 10.5202\n",
      "step 8000: train loss 1.5705, val loss 10.5667\n",
      "step 8100: train loss 1.5282, val loss 10.6244\n",
      "step 8200: train loss 1.5131, val loss 10.6477\n",
      "step 8300: train loss 1.5116, val loss 10.6450\n",
      "step 8400: train loss 1.5029, val loss 10.7535\n",
      "step 8500: train loss 1.4492, val loss 10.7780\n",
      "step 8600: train loss 1.4428, val loss 10.8146\n",
      "step 8700: train loss 1.4180, val loss 10.8728\n",
      "step 8800: train loss 1.4128, val loss 10.8858\n",
      "step 8900: train loss 1.4334, val loss 11.0606\n",
      "step 9000: train loss 1.4049, val loss 10.9453\n",
      "step 9100: train loss 1.3702, val loss 11.0506\n",
      "step 9200: train loss 1.3650, val loss 11.1923\n",
      "step 9300: train loss 1.3410, val loss 11.1907\n",
      "step 9400: train loss 1.3098, val loss 11.2187\n",
      "step 9500: train loss 1.3091, val loss 11.2853\n",
      "step 9600: train loss 1.3002, val loss 11.3395\n",
      "step 9700: train loss 1.2881, val loss 11.3739\n",
      "step 9800: train loss 1.2810, val loss 11.4462\n",
      "step 9900: train loss 1.2691, val loss 11.4829\n",
      "step 9999: train loss 1.2338, val loss 11.5419\n",
      "+ dentro de uma jogada como que será o usuário não havia sido feita antes tradicional Você já está na esteira vou conta IA provavelmente terão implementado outro conjunto de entradas que o treinamento com uma sessão mas uma pergunta um sistema diferente deve ser mais possível como uma rede neural entra sim uma função que não precisava ser RNN Mas agora ainda ao invés de um filme como o banco Os cientistas buscaram usos sérios para parece estar do objeto Mas antes Eu diria que se deseja que Bem faz com um número de instruções Agora imagine Mas o que \n"
     ]
    }
   ],
   "source": [
    "import torch\n",
    "import torch.nn as nn\n",
    "from torch.nn import functional as F\n",
    "import numpy as np\n",
    "\n",
    "# hyperparameters\n",
    "batch_size = 16 # how many independent sequences will we process in parallel?\n",
    "block_size = 32 # what is the maximum context length for predictions?\n",
    "max_iters = 10000\n",
    "eval_interval = 100\n",
    "learning_rate = 1e-3\n",
    "device = 'cuda' if torch.cuda.is_available() else 'cpu'\n",
    "eval_iters = 200\n",
    "n_embd = 64\n",
    "n_head = 4\n",
    "n_layer = 4\n",
    "dropout = 0.0\n",
    "# ------------\n",
    "\n",
    "torch.manual_seed(1337)\n",
    "\n",
    "# wget https://raw.githubusercontent.com/karpathy/char-rnn/master/data/tinyshakespeare/input.txt\n",
    "with open('gsreis.txt', 'r', encoding='utf-8') as f:\n",
    "    text = f.read()\n",
    "\n",
    "# here are all the unique characters that occur in this text\n",
    "chars = sorted(list(set(text.split())))\n",
    "vocab_size = len(chars)\n",
    "# create a mapping from characters to integers\n",
    "def encode(input):\n",
    "    words = input.split()\n",
    "    return [chars.index(i) for i in words]\n",
    "\n",
    "def decode(value):\n",
    "    return [chars[i] for i in value]\n",
    "\n",
    "# Train and test splits\n",
    "data = torch.tensor(encode(text), dtype=torch.long)\n",
    "n = int(0.9*len(data)) # first 90% will be train, rest val\n",
    "train_data = data[:n]\n",
    "val_data = data[n:]\n",
    "\n",
    "# data loading\n",
    "def get_batch(split):\n",
    "    # generate a small batch of data of inputs x and targets y\n",
    "    data = train_data if split == 'train' else val_data\n",
    "    ix = torch.randint(len(data) - block_size, (batch_size,))\n",
    "    x = torch.stack([data[i:i+block_size] for i in ix])\n",
    "    y = torch.stack([data[i+1:i+block_size+1] for i in ix])\n",
    "    x, y = x.to(device), y.to(device)\n",
    "    return x, y\n",
    "\n",
    "@torch.no_grad()\n",
    "def estimate_loss():\n",
    "    out = {}\n",
    "    model.eval()\n",
    "    for split in ['train', 'val']:\n",
    "        losses = torch.zeros(eval_iters)\n",
    "        for k in range(eval_iters):\n",
    "            X, Y = get_batch(split)\n",
    "            logits, loss = model(X, Y)\n",
    "            losses[k] = loss.item()\n",
    "        out[split] = losses.mean()\n",
    "    model.train()\n",
    "    return out\n",
    "\n",
    "class Head(nn.Module):\n",
    "    \"\"\" one head of self-attention \"\"\"\n",
    "\n",
    "    def __init__(self, head_size):\n",
    "        super().__init__()\n",
    "        self.key = nn.Linear(n_embd, head_size, bias=False)\n",
    "        self.query = nn.Linear(n_embd, head_size, bias=False)\n",
    "        self.value = nn.Linear(n_embd, head_size, bias=False)\n",
    "        self.register_buffer('tril', torch.tril(torch.ones(block_size, block_size)))\n",
    "\n",
    "        self.dropout = nn.Dropout(dropout)\n",
    "\n",
    "    def forward(self, x):\n",
    "        B,T,C = x.shape\n",
    "        k = self.key(x)   # (B,T,C)\n",
    "        q = self.query(x) # (B,T,C)\n",
    "        # compute attention scores (\"affinities\")\n",
    "        wei = q @ k.transpose(-2,-1) * C**-0.5 # (B, T, C) @ (B, C, T) -> (B, T, T)\n",
    "        wei = wei.masked_fill(self.tril[:T, :T] == 0, float('-inf')) # (B, T, T)\n",
    "        wei = F.softmax(wei, dim=-1) # (B, T, T)\n",
    "        wei = self.dropout(wei)\n",
    "        # perform the weighted aggregation of the values\n",
    "        v = self.value(x) # (B,T,C)\n",
    "        out = wei @ v # (B, T, T) @ (B, T, C) -> (B, T, C)\n",
    "        return out\n",
    "\n",
    "class MultiHeadAttention(nn.Module):\n",
    "    \"\"\" multiple heads of self-attention in parallel \"\"\"\n",
    "\n",
    "    def __init__(self, num_heads, head_size):\n",
    "        super().__init__()\n",
    "        self.heads = nn.ModuleList([Head(head_size) for _ in range(num_heads)])\n",
    "        self.proj = nn.Linear(n_embd, n_embd)\n",
    "        self.dropout = nn.Dropout(dropout)\n",
    "\n",
    "    def forward(self, x):\n",
    "        out = torch.cat([h(x) for h in self.heads], dim=-1)\n",
    "        out = self.dropout(self.proj(out))\n",
    "        return out\n",
    "\n",
    "class FeedFoward(nn.Module):\n",
    "    \"\"\" a simple linear layer followed by a non-linearity \"\"\"\n",
    "\n",
    "    def __init__(self, n_embd):\n",
    "        super().__init__()\n",
    "        self.net = nn.Sequential(\n",
    "            nn.Linear(n_embd, 4 * n_embd),\n",
    "            nn.ReLU(),\n",
    "            nn.Linear(4 * n_embd, n_embd),\n",
    "            nn.Dropout(dropout),\n",
    "        )\n",
    "\n",
    "    def forward(self, x):\n",
    "        return self.net(x)\n",
    "\n",
    "class Block(nn.Module):\n",
    "    \"\"\" Transformer block: communication followed by computation \"\"\"\n",
    "\n",
    "    def __init__(self, n_embd, n_head):\n",
    "        # n_embd: embedding dimension, n_head: the number of heads we'd like\n",
    "        super().__init__()\n",
    "        head_size = n_embd // n_head\n",
    "        self.sa = MultiHeadAttention(n_head, head_size)\n",
    "        self.ffwd = FeedFoward(n_embd)\n",
    "        self.ln1 = nn.LayerNorm(n_embd)\n",
    "        self.ln2 = nn.LayerNorm(n_embd)\n",
    "\n",
    "    def forward(self, x):\n",
    "        x = x + self.sa(self.ln1(x))\n",
    "        x = x + self.ffwd(self.ln2(x))\n",
    "        return x\n",
    "\n",
    "# super simple bigram model\n",
    "class BigramLanguageModel(nn.Module):\n",
    "\n",
    "    def __init__(self):\n",
    "        super().__init__()\n",
    "        # each token directly reads off the logits for the next token from a lookup table\n",
    "        self.token_embedding_table = nn.Embedding(vocab_size, n_embd)\n",
    "        self.position_embedding_table = nn.Embedding(block_size, n_embd)\n",
    "        self.blocks = nn.Sequential(*[Block(n_embd, n_head=n_head) for _ in range(n_layer)])\n",
    "        self.ln_f = nn.LayerNorm(n_embd) # final layer norm\n",
    "        self.lm_head = nn.Linear(n_embd, vocab_size)\n",
    "\n",
    "    def forward(self, idx, targets=None):\n",
    "        B, T = idx.shape\n",
    "\n",
    "        # idx and targets are both (B,T) tensor of integers\n",
    "        tok_emb = self.token_embedding_table(idx) # (B,T,C)\n",
    "        pos_emb = self.position_embedding_table(torch.arange(T, device=device)) # (T,C)\n",
    "        x = tok_emb + pos_emb # (B,T,C)\n",
    "        x = self.blocks(x) # (B,T,C)\n",
    "        x = self.ln_f(x) # (B,T,C)\n",
    "        logits = self.lm_head(x) # (B,T,vocab_size)\n",
    "\n",
    "        if targets is None:\n",
    "            loss = None\n",
    "        else:\n",
    "            B, T, C = logits.shape\n",
    "            logits = logits.view(B*T, C)\n",
    "            targets = targets.view(B*T)\n",
    "            loss = F.cross_entropy(logits, targets)\n",
    "\n",
    "        return logits, loss\n",
    "\n",
    "    def generate(self, idx, max_new_tokens):\n",
    "        # idx is (B, T) array of indices in the current context\n",
    "        for _ in range(max_new_tokens):\n",
    "            # crop idx to the last block_size tokens\n",
    "            idx_cond = idx[:, -block_size:]\n",
    "            # get the predictions\n",
    "            logits, loss = self(idx_cond)\n",
    "            # focus only on the last time step\n",
    "            logits = logits[:, -1, :] # becomes (B, C)\n",
    "            # apply softmax to get probabilities\n",
    "            probs = F.softmax(logits, dim=-1) # (B, C)\n",
    "            # sample from the distribution\n",
    "            idx_next = torch.multinomial(probs, num_samples=1) # (B, 1)\n",
    "            # append sampled index to the running sequence\n",
    "            idx = torch.cat((idx, idx_next), dim=1) # (B, T+1)\n",
    "        return idx\n",
    "\n",
    "model = BigramLanguageModel()\n",
    "m = model.to(device)\n",
    "# print the number of parameters in the model\n",
    "print(sum(p.numel() for p in m.parameters())/1e6, 'M parameters')\n",
    "\n",
    "# create a PyTorch optimizer\n",
    "optimizer = torch.optim.AdamW(model.parameters(), lr=learning_rate)\n",
    "\n",
    "for iter in range(max_iters):\n",
    "\n",
    "    # every once in a while evaluate the loss on train and val sets\n",
    "    if iter % eval_interval == 0 or iter == max_iters - 1:\n",
    "        losses = estimate_loss()\n",
    "        print(f\"step {iter}: train loss {losses['train']:.4f}, val loss {losses['val']:.4f}\")\n",
    "\n",
    "    # sample a batch of data\n",
    "    xb, yb = get_batch('train')\n",
    "\n",
    "    # evaluate the loss\n",
    "    logits, loss = model(xb, yb)\n",
    "    optimizer.zero_grad(set_to_none=True)\n",
    "    loss.backward()\n",
    "    optimizer.step()\n",
    "\n",
    "# generate from the model\n",
    "context = torch.zeros((1, 1), dtype=torch.long, device=device)\n",
    "#context = torch.tensor(encode(\"O QUBIT é um\"))\n",
    "#context = context.reshape(2,2)\n",
    "#print(context.shape)\n",
    "result = decode(m.generate(context, max_new_tokens=100)[0].tolist())\n",
    "string = ''\n",
    "for element in result :\n",
    "    string += element + ' '\n",
    "print(string)\n",
    "\n"
   ]
  },
  {
   "cell_type": "code",
   "execution_count": null,
   "id": "6ee91686",
   "metadata": {},
   "outputs": [],
   "source": []
  }
 ],
 "metadata": {
  "kernelspec": {
   "display_name": "Python 3 (ipykernel)",
   "language": "python",
   "name": "python3"
  },
  "language_info": {
   "codemirror_mode": {
    "name": "ipython",
    "version": 3
   },
   "file_extension": ".py",
   "mimetype": "text/x-python",
   "name": "python",
   "nbconvert_exporter": "python",
   "pygments_lexer": "ipython3",
   "version": "3.10.9"
  }
 },
 "nbformat": 4,
 "nbformat_minor": 5
}
